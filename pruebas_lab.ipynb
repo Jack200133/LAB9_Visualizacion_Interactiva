{
 "cells": [
  {
   "cell_type": "code",
   "execution_count": 5,
   "metadata": {},
   "outputs": [],
   "source": [
    "import time  # to simulate a real time data, time loop\n",
    "\n",
    "import numpy as np  # np mean, np random\n",
    "import pandas as pd  # read csv, df manipulation\n",
    "import plotly.express as px  # interactive charts\n",
    "import streamlit as st  # 🎈 data web app development\n",
    "import matplotlib.pyplot as plt"
   ]
  },
  {
   "cell_type": "code",
   "execution_count": 6,
   "metadata": {},
   "outputs": [
    {
     "name": "stdout",
     "output_type": "stream",
     "text": [
      "<class 'pandas.core.frame.DataFrame'>\n",
      "RangeIndex: 948 entries, 0 to 947\n",
      "Data columns (total 8 columns):\n",
      " #   Column          Non-Null Count  Dtype  \n",
      "---  ------          --------------  -----  \n",
      " 0   FECHA           948 non-null    object \n",
      " 1   Tipo de Cambio  944 non-null    float64\n",
      " 2   Superior        948 non-null    float64\n",
      " 3   Regular         948 non-null    float64\n",
      " 4   Diesel          948 non-null    float64\n",
      " 5   Bunker          948 non-null    float64\n",
      " 6   GLP CILINDRO    948 non-null    float64\n",
      " 7   GLP LIBRAS      948 non-null    float64\n",
      "dtypes: float64(7), object(1)\n",
      "memory usage: 59.4+ KB\n"
     ]
    },
    {
     "data": {
      "text/plain": [
       "<Figure size 640x480 with 0 Axes>"
      ]
     },
     "metadata": {},
     "output_type": "display_data"
    }
   ],
   "source": [
    "precios_data = pd.read_csv(\"./Precios.csv\")\n",
    "\n",
    "precios_data.info()\n",
    "\n",
    "precios_data.duplicated()\n",
    "\n",
    "precios_data.count()\n",
    "\n",
    "st.pyplot()\n",
    "\n",
    "with st.sidebar:\n",
    "   st.write(\"Selecciona un rango de precios : \")\n",
    "   new_score_rating = st.slider(label = \"Choose a value : \" ,\n",
    "                                min_value = 99.0,\n",
    "                                max_value = 150.0,\n",
    "                                value = (110.0,130.0))"
   ]
  }
 ],
 "metadata": {
  "kernelspec": {
   "display_name": "myenv",
   "language": "python",
   "name": "python3"
  },
  "language_info": {
   "codemirror_mode": {
    "name": "ipython",
    "version": 3
   },
   "file_extension": ".py",
   "mimetype": "text/x-python",
   "name": "python",
   "nbconvert_exporter": "python",
   "pygments_lexer": "ipython3",
   "version": "3.11.4"
  }
 },
 "nbformat": 4,
 "nbformat_minor": 2
}
